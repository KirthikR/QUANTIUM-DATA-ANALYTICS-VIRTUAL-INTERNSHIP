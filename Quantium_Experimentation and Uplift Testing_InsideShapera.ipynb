{
 "cells": [
  {
   "cell_type": "markdown",
   "metadata": {},
   "source": [
    "## Experimentation and Uplift Testing"
   ]
  },
  {
   "cell_type": "code",
   "execution_count": 1,
   "metadata": {},
   "outputs": [],
   "source": [
    "import pandas as pd\n",
    "import numpy as np\n",
    "import matplotlib.pyplot as plt\n",
    "import seaborn as sns\n",
    "import math\n",
    "\n",
    "import datetime\n",
    "\n",
    "from scipy.stats import ttest_ind\n",
    "\n",
    "from sklearn import preprocessing\n",
    "from sklearn.metrics.pairwise import euclidean_distances\n",
    "from sklearn.cluster import KMeans\n",
    "from sklearn.decomposition import PCA\n",
    "from sklearn import metrics \n",
    "\n",
    "from scipy.spatial.distance import cdist\n",
    "\n",
    "%matplotlib inline "
   ]
  },
  {
   "cell_type": "code",
   "execution_count": 2,
   "metadata": {},
   "outputs": [],
   "source": [
    "QVI = pd.read_csv(r'QVI_data.csv')"
   ]
  },
  {
   "cell_type": "code",
   "execution_count": 3,
   "metadata": {},
   "outputs": [
    {
     "data": {
      "text/html": [
       "<div>\n",
       "<style scoped>\n",
       "    .dataframe tbody tr th:only-of-type {\n",
       "        vertical-align: middle;\n",
       "    }\n",
       "\n",
       "    .dataframe tbody tr th {\n",
       "        vertical-align: top;\n",
       "    }\n",
       "\n",
       "    .dataframe thead th {\n",
       "        text-align: right;\n",
       "    }\n",
       "</style>\n",
       "<table border=\"1\" class=\"dataframe\">\n",
       "  <thead>\n",
       "    <tr style=\"text-align: right;\">\n",
       "      <th></th>\n",
       "      <th>LYLTY_CARD_NBR</th>\n",
       "      <th>DATE</th>\n",
       "      <th>STORE_NBR</th>\n",
       "      <th>TXN_ID</th>\n",
       "      <th>PROD_NBR</th>\n",
       "      <th>PROD_NAME</th>\n",
       "      <th>PROD_QTY</th>\n",
       "      <th>TOT_SALES</th>\n",
       "      <th>PACK_SIZE</th>\n",
       "      <th>BRAND</th>\n",
       "      <th>LIFESTAGE</th>\n",
       "      <th>PREMIUM_CUSTOMER</th>\n",
       "    </tr>\n",
       "  </thead>\n",
       "  <tbody>\n",
       "    <tr>\n",
       "      <th>0</th>\n",
       "      <td>1000</td>\n",
       "      <td>2018-10-17</td>\n",
       "      <td>1</td>\n",
       "      <td>1</td>\n",
       "      <td>5</td>\n",
       "      <td>Natural Chip        Compny SeaSalt175g</td>\n",
       "      <td>2</td>\n",
       "      <td>6.0</td>\n",
       "      <td>175</td>\n",
       "      <td>NATURAL</td>\n",
       "      <td>YOUNG SINGLES/COUPLES</td>\n",
       "      <td>Premium</td>\n",
       "    </tr>\n",
       "    <tr>\n",
       "      <th>1</th>\n",
       "      <td>1002</td>\n",
       "      <td>2018-09-16</td>\n",
       "      <td>1</td>\n",
       "      <td>2</td>\n",
       "      <td>58</td>\n",
       "      <td>Red Rock Deli Chikn&amp;Garlic Aioli 150g</td>\n",
       "      <td>1</td>\n",
       "      <td>2.7</td>\n",
       "      <td>150</td>\n",
       "      <td>RRD</td>\n",
       "      <td>YOUNG SINGLES/COUPLES</td>\n",
       "      <td>Mainstream</td>\n",
       "    </tr>\n",
       "    <tr>\n",
       "      <th>2</th>\n",
       "      <td>1003</td>\n",
       "      <td>2019-03-07</td>\n",
       "      <td>1</td>\n",
       "      <td>3</td>\n",
       "      <td>52</td>\n",
       "      <td>Grain Waves Sour    Cream&amp;Chives 210G</td>\n",
       "      <td>1</td>\n",
       "      <td>3.6</td>\n",
       "      <td>210</td>\n",
       "      <td>GRNWVES</td>\n",
       "      <td>YOUNG FAMILIES</td>\n",
       "      <td>Budget</td>\n",
       "    </tr>\n",
       "    <tr>\n",
       "      <th>3</th>\n",
       "      <td>1003</td>\n",
       "      <td>2019-03-08</td>\n",
       "      <td>1</td>\n",
       "      <td>4</td>\n",
       "      <td>106</td>\n",
       "      <td>Natural ChipCo      Hony Soy Chckn175g</td>\n",
       "      <td>1</td>\n",
       "      <td>3.0</td>\n",
       "      <td>175</td>\n",
       "      <td>NATURAL</td>\n",
       "      <td>YOUNG FAMILIES</td>\n",
       "      <td>Budget</td>\n",
       "    </tr>\n",
       "    <tr>\n",
       "      <th>4</th>\n",
       "      <td>1004</td>\n",
       "      <td>2018-11-02</td>\n",
       "      <td>1</td>\n",
       "      <td>5</td>\n",
       "      <td>96</td>\n",
       "      <td>WW Original Stacked Chips 160g</td>\n",
       "      <td>1</td>\n",
       "      <td>1.9</td>\n",
       "      <td>160</td>\n",
       "      <td>WOOLWORTHS</td>\n",
       "      <td>OLDER SINGLES/COUPLES</td>\n",
       "      <td>Mainstream</td>\n",
       "    </tr>\n",
       "  </tbody>\n",
       "</table>\n",
       "</div>"
      ],
      "text/plain": [
       "   LYLTY_CARD_NBR        DATE  STORE_NBR  TXN_ID  PROD_NBR  \\\n",
       "0            1000  2018-10-17          1       1         5   \n",
       "1            1002  2018-09-16          1       2        58   \n",
       "2            1003  2019-03-07          1       3        52   \n",
       "3            1003  2019-03-08          1       4       106   \n",
       "4            1004  2018-11-02          1       5        96   \n",
       "\n",
       "                                PROD_NAME  PROD_QTY  TOT_SALES  PACK_SIZE  \\\n",
       "0  Natural Chip        Compny SeaSalt175g         2        6.0        175   \n",
       "1   Red Rock Deli Chikn&Garlic Aioli 150g         1        2.7        150   \n",
       "2   Grain Waves Sour    Cream&Chives 210G         1        3.6        210   \n",
       "3  Natural ChipCo      Hony Soy Chckn175g         1        3.0        175   \n",
       "4          WW Original Stacked Chips 160g         1        1.9        160   \n",
       "\n",
       "        BRAND              LIFESTAGE PREMIUM_CUSTOMER  \n",
       "0     NATURAL  YOUNG SINGLES/COUPLES          Premium  \n",
       "1         RRD  YOUNG SINGLES/COUPLES       Mainstream  \n",
       "2     GRNWVES         YOUNG FAMILIES           Budget  \n",
       "3     NATURAL         YOUNG FAMILIES           Budget  \n",
       "4  WOOLWORTHS  OLDER SINGLES/COUPLES       Mainstream  "
      ]
     },
     "execution_count": 3,
     "metadata": {},
     "output_type": "execute_result"
    }
   ],
   "source": [
    "QVI.head()"
   ]
  },
  {
   "cell_type": "code",
   "execution_count": 4,
   "metadata": {},
   "outputs": [
    {
     "name": "stdout",
     "output_type": "stream",
     "text": [
      "<class 'pandas.core.frame.DataFrame'>\n",
      "RangeIndex: 264834 entries, 0 to 264833\n",
      "Data columns (total 12 columns):\n",
      "LYLTY_CARD_NBR      264834 non-null int64\n",
      "DATE                264834 non-null object\n",
      "STORE_NBR           264834 non-null int64\n",
      "TXN_ID              264834 non-null int64\n",
      "PROD_NBR            264834 non-null int64\n",
      "PROD_NAME           264834 non-null object\n",
      "PROD_QTY            264834 non-null int64\n",
      "TOT_SALES           264834 non-null float64\n",
      "PACK_SIZE           264834 non-null int64\n",
      "BRAND               264834 non-null object\n",
      "LIFESTAGE           264834 non-null object\n",
      "PREMIUM_CUSTOMER    264834 non-null object\n",
      "dtypes: float64(1), int64(6), object(5)\n",
      "memory usage: 24.2+ MB\n"
     ]
    }
   ],
   "source": [
    "QVI.info()"
   ]
  },
  {
   "cell_type": "markdown",
   "metadata": {},
   "source": [
    "**Select control stores:**<br>\n",
    "The client has selected store numbers 77, 86 and 88 as trial stores and want control stores to be established\n",
    "stores that are operational for the entire observation period.\n",
    "We would want to match trial stores to control stores that are similar to the trial store prior to the trial period\n",
    "of Feb 2019 in terms of :\n",
    "<ol>\n",
    "<ol>• Monthly overall sales revenue</ol>\n",
    "<ol>• Monthly number of customers</ol>\n",
    "<ol>• Monthly number of transactions per customer</ol>\n",
    "</ol>\n"
   ]
  },
  {
   "cell_type": "code",
   "execution_count": 5,
   "metadata": {},
   "outputs": [],
   "source": [
    "# Converting to datetime object:\n",
    "QVI.DATE = pd.to_datetime(QVI.DATE)\n",
    "#Creating month column:\n",
    "QVI['Month_Date'] = QVI['DATE'].dt.to_period('M')"
   ]
  },
  {
   "cell_type": "code",
   "execution_count": 6,
   "metadata": {},
   "outputs": [
    {
     "data": {
      "text/plain": [
       "272"
      ]
     },
     "execution_count": 6,
     "metadata": {},
     "output_type": "execute_result"
    }
   ],
   "source": [
    "QVI['STORE_NBR'].nunique()"
   ]
  },
  {
   "cell_type": "code",
   "execution_count": 7,
   "metadata": {},
   "outputs": [
    {
     "data": {
      "text/plain": [
       "Period('2018-07', 'M')"
      ]
     },
     "execution_count": 7,
     "metadata": {},
     "output_type": "execute_result"
    }
   ],
   "source": [
    "QVI['Month_Date'].min()"
   ]
  },
  {
   "cell_type": "code",
   "execution_count": 8,
   "metadata": {},
   "outputs": [
    {
     "data": {
      "text/plain": [
       "<PeriodArray>\n",
       "['2018-07', '2018-08', '2018-09', '2018-10', '2018-11', '2018-12', '2019-01',\n",
       " '2019-02']\n",
       "Length: 8, dtype: period[M]"
      ]
     },
     "execution_count": 8,
     "metadata": {},
     "output_type": "execute_result"
    }
   ],
   "source": [
    "pre_trial_date = QVI[QVI['Month_Date'] <'2019-03']['Month_Date'].sort_values().unique()\n",
    "pre_trial_date"
   ]
  },
  {
   "cell_type": "code",
   "execution_count": 9,
   "metadata": {},
   "outputs": [],
   "source": [
    "QVI_pre_Trial = QVI[QVI['Month_Date'].isin(pre_trial_date)]"
   ]
  },
  {
   "cell_type": "code",
   "execution_count": 10,
   "metadata": {},
   "outputs": [],
   "source": [
    "stores = QVI_pre_Trial['STORE_NBR'].unique()"
   ]
  },
  {
   "cell_type": "code",
   "execution_count": 11,
   "metadata": {},
   "outputs": [],
   "source": [
    "def store_throughout_pretrail(stores):\n",
    "    stores_trial = []\n",
    "    for stor in stores:\n",
    "        stor_date = pd.PeriodIndex(QVI_pre_Trial['Month_Date'][QVI_pre_Trial['STORE_NBR'] == stor].unique()).sort_values()\n",
    "        if np.array_equal(stor_date, pre_trial_date):\n",
    "            stores_trial.append(stor)\n",
    "    return stores_trial"
   ]
  },
  {
   "cell_type": "code",
   "execution_count": 12,
   "metadata": {},
   "outputs": [],
   "source": [
    "stores_trial = store_throughout_pretrail(stores)"
   ]
  },
  {
   "cell_type": "code",
   "execution_count": 13,
   "metadata": {},
   "outputs": [
    {
     "data": {
      "text/plain": [
       "260"
      ]
     },
     "execution_count": 13,
     "metadata": {},
     "output_type": "execute_result"
    }
   ],
   "source": [
    "len(stores_trial)"
   ]
  },
  {
   "cell_type": "code",
   "execution_count": 14,
   "metadata": {},
   "outputs": [],
   "source": [
    "#Stores with data throughout pre-trail date:\n",
    "QVI_pre_Trial = QVI_pre_Trial[QVI_pre_Trial['STORE_NBR'].isin(stores)]"
   ]
  },
  {
   "cell_type": "code",
   "execution_count": 15,
   "metadata": {},
   "outputs": [],
   "source": [
    "monthly = QVI_pre_Trial.groupby(['STORE_NBR'])['PROD_QTY', 'TOT_SALES'].sum().reset_index()\n",
    "monthly['Price/Unit'] = np.round((monthly['TOT_SALES']/monthly['PROD_QTY']),3)\n",
    "monthly['Customers'] = QVI_pre_Trial.groupby(['STORE_NBR'])['LYLTY_CARD_NBR'].nunique().reset_index()['LYLTY_CARD_NBR']\n",
    "monthly['Transactions'] = QVI_pre_Trial.groupby(['STORE_NBR'])['TXN_ID'].nunique().reset_index()['TXN_ID']\n",
    "monthly['TxnPerCust'] = np.round((monthly['Transactions']/monthly['Customers']), 3)\n",
    "monthly['ChipsPerTxn'] = np.round((monthly['PROD_QTY']/monthly['Transactions']),3)\n",
    "monthly.drop(['Transactions','PROD_QTY','Price/Unit','ChipsPerTxn'], axis = 1, inplace=True)\n",
    "# monthly.set_index('STORE_NBR', inplace=True)"
   ]
  },
  {
   "cell_type": "code",
   "execution_count": 16,
   "metadata": {},
   "outputs": [
    {
     "data": {
      "text/html": [
       "<div>\n",
       "<style scoped>\n",
       "    .dataframe tbody tr th:only-of-type {\n",
       "        vertical-align: middle;\n",
       "    }\n",
       "\n",
       "    .dataframe tbody tr th {\n",
       "        vertical-align: top;\n",
       "    }\n",
       "\n",
       "    .dataframe thead th {\n",
       "        text-align: right;\n",
       "    }\n",
       "</style>\n",
       "<table border=\"1\" class=\"dataframe\">\n",
       "  <thead>\n",
       "    <tr style=\"text-align: right;\">\n",
       "      <th></th>\n",
       "      <th>STORE_NBR</th>\n",
       "      <th>TOT_SALES</th>\n",
       "      <th>Customers</th>\n",
       "      <th>TxnPerCust</th>\n",
       "    </tr>\n",
       "  </thead>\n",
       "  <tbody>\n",
       "    <tr>\n",
       "      <th>0</th>\n",
       "      <td>1</td>\n",
       "      <td>1612.30</td>\n",
       "      <td>267</td>\n",
       "      <td>1.449</td>\n",
       "    </tr>\n",
       "    <tr>\n",
       "      <th>1</th>\n",
       "      <td>2</td>\n",
       "      <td>1267.90</td>\n",
       "      <td>239</td>\n",
       "      <td>1.331</td>\n",
       "    </tr>\n",
       "    <tr>\n",
       "      <th>2</th>\n",
       "      <td>3</td>\n",
       "      <td>8723.85</td>\n",
       "      <td>347</td>\n",
       "      <td>2.908</td>\n",
       "    </tr>\n",
       "    <tr>\n",
       "      <th>3</th>\n",
       "      <td>4</td>\n",
       "      <td>10010.40</td>\n",
       "      <td>357</td>\n",
       "      <td>3.182</td>\n",
       "    </tr>\n",
       "    <tr>\n",
       "      <th>4</th>\n",
       "      <td>5</td>\n",
       "      <td>6466.70</td>\n",
       "      <td>233</td>\n",
       "      <td>3.961</td>\n",
       "    </tr>\n",
       "    <tr>\n",
       "      <th>5</th>\n",
       "      <td>6</td>\n",
       "      <td>1842.80</td>\n",
       "      <td>262</td>\n",
       "      <td>1.370</td>\n",
       "    </tr>\n",
       "    <tr>\n",
       "      <th>6</th>\n",
       "      <td>7</td>\n",
       "      <td>8339.90</td>\n",
       "      <td>354</td>\n",
       "      <td>2.757</td>\n",
       "    </tr>\n",
       "  </tbody>\n",
       "</table>\n",
       "</div>"
      ],
      "text/plain": [
       "   STORE_NBR  TOT_SALES  Customers  TxnPerCust\n",
       "0          1    1612.30        267       1.449\n",
       "1          2    1267.90        239       1.331\n",
       "2          3    8723.85        347       2.908\n",
       "3          4   10010.40        357       3.182\n",
       "4          5    6466.70        233       3.961\n",
       "5          6    1842.80        262       1.370\n",
       "6          7    8339.90        354       2.757"
      ]
     },
     "execution_count": 16,
     "metadata": {},
     "output_type": "execute_result"
    }
   ],
   "source": [
    "monthly.head(7)"
   ]
  },
  {
   "cell_type": "code",
   "execution_count": 17,
   "metadata": {},
   "outputs": [],
   "source": [
    "#Elbow Method to determine the number of clusters:\n",
    "K = range(1,20)\n",
    "distortion = []\n",
    "inertias = []\n",
    "mappings1 = {}\n",
    "mappings2 = {}\n",
    "for k in K:\n",
    "    kmod = KMeans(n_clusters = k)\n",
    "    kmod.fit(monthly)\n",
    "    distortion.append(sum(np.min(cdist(monthly, kmod.cluster_centers_, \n",
    "                      'euclidean'),axis=1))/monthly.shape[0])\n",
    "    inertias.append(kmod.inertia_)\n",
    "    mappings1[k] = sum(np.min(cdist(monthly, kmod.cluster_centers_, \n",
    "                      'euclidean'),axis=1))/monthly.shape[0]\n",
    "    mappings2[k] = kmod.inertia_"
   ]
  },
  {
   "cell_type": "code",
   "execution_count": 18,
   "metadata": {},
   "outputs": [
    {
     "data": {
      "image/png": "[encoded data removed]",
      "text/plain": [
       "<Figure size 432x288 with 1 Axes>"
      ]
     },
     "metadata": {
      "needs_background": "light"
     },
     "output_type": "display_data"
    }
   ],
   "source": [
    "plt.plot(K, distortion, 'bx-')\n",
    "plt.xlabel('Values of K')\n",
    "plt.ylabel('Distortions')\n",
    "plt.title(\"Plot of distortions\")\n",
    "plt.show()"
   ]
  },
  {
   "cell_type": "code",
   "execution_count": 19,
   "metadata": {},
   "outputs": [
    {
     "data": {
      "image/png": "[encoded data removed]",
      "text/plain": [
       "<Figure size 432x288 with 1 Axes>"
      ]
     },
     "metadata": {
      "needs_background": "light"
     },
     "output_type": "display_data"
    }
   ],
   "source": [
    "plt.plot(K, inertias, 'bx-')\n",
    "plt.xlabel('Values of K')\n",
    "plt.ylabel('Inertias')\n",
    "plt.title(\"Plot of Inertias\")\n",
    "plt.show()"
   ]
  },
  {
   "cell_type": "markdown",
   "metadata": {},
   "source": [
    "We can conclude that 5 clusters are appropriate."
   ]
  },
  {
   "cell_type": "code",
   "execution_count": 20,
   "metadata": {},
   "outputs": [],
   "source": [
    "km = KMeans(n_clusters=5)\n",
    "monthly['Cluster'] = km.fit_predict(monthly[['TOT_SALES','Customers','TxnPerCust']])"
   ]
  },
  {
   "cell_type": "code",
   "execution_count": 21,
   "metadata": {},
   "outputs": [],
   "source": [
    "reduced_data = PCA(n_components = 2).fit_transform(monthly[['TOT_SALES','Customers','TxnPerCust']])\n",
    "results = pd.DataFrame(reduced_data,columns=['pca1','pca2'])"
   ]
  },
  {
   "cell_type": "code",
   "execution_count": 22,
   "metadata": {},
   "outputs": [
    {
     "data": {
      "image/png": "[encoded data removed]",
      "text/plain": [
       "<Figure size 432x288 with 1 Axes>"
      ]
     },
     "metadata": {
      "needs_background": "light"
     },
     "output_type": "display_data"
    }
   ],
   "source": [
    "sns.scatterplot(x=\"pca1\", y=\"pca2\", hue=monthly['Cluster'], data=results)\n",
    "plt.title('K-means Clustering with 2 dimensions')\n",
    "plt.show()"
   ]
  },
  {
   "cell_type": "code",
   "execution_count": 23,
   "metadata": {},
   "outputs": [
    {
     "data": {
      "text/html": [
       "<div>\n",
       "<style scoped>\n",
       "    .dataframe tbody tr th:only-of-type {\n",
       "        vertical-align: middle;\n",
       "    }\n",
       "\n",
       "    .dataframe tbody tr th {\n",
       "        vertical-align: top;\n",
       "    }\n",
       "\n",
       "    .dataframe thead th {\n",
       "        text-align: right;\n",
       "    }\n",
       "</style>\n",
       "<table border=\"1\" class=\"dataframe\">\n",
       "  <thead>\n",
       "    <tr style=\"text-align: right;\">\n",
       "      <th></th>\n",
       "      <th>STORE_NBR</th>\n",
       "      <th>TOT_SALES</th>\n",
       "      <th>Customers</th>\n",
       "      <th>TxnPerCust</th>\n",
       "      <th>Cluster</th>\n",
       "    </tr>\n",
       "  </thead>\n",
       "  <tbody>\n",
       "    <tr>\n",
       "      <th>76</th>\n",
       "      <td>77</td>\n",
       "      <td>1934.0</td>\n",
       "      <td>264</td>\n",
       "      <td>1.367</td>\n",
       "      <td>1</td>\n",
       "    </tr>\n",
       "  </tbody>\n",
       "</table>\n",
       "</div>"
      ],
      "text/plain": [
       "    STORE_NBR  TOT_SALES  Customers  TxnPerCust  Cluster\n",
       "76         77     1934.0        264       1.367        1"
      ]
     },
     "execution_count": 23,
     "metadata": {},
     "output_type": "execute_result"
    }
   ],
   "source": [
    "monthly[monthly['STORE_NBR']==77]"
   ]
  },
  {
   "cell_type": "code",
   "execution_count": 24,
   "metadata": {},
   "outputs": [],
   "source": [
    "#Lets keep the clusters with our trial stores and discard the rest clusters:"
   ]
  },
  {
   "cell_type": "code",
   "execution_count": 25,
   "metadata": {},
   "outputs": [],
   "source": [
    "Cluster77 = monthly[monthly['Cluster']==0]\n",
    "Cluster86 = monthly[monthly['Cluster']==2]\n",
    "Cluster88 = monthly[monthly['Cluster']==1]"
   ]
  },
  {
   "cell_type": "code",
   "execution_count": 27,
   "metadata": {},
   "outputs": [],
   "source": [
    "# Cluster77.loc[41]"
   ]
  },
  {
   "cell_type": "markdown",
   "metadata": {},
   "source": [
    "### Lets compare the top 4 stores and select the closest as the control store for each of the trial stores 77, 86 and 88."
   ]
  },
  {
   "cell_type": "code",
   "execution_count": 28,
   "metadata": {},
   "outputs": [
    {
     "data": {
      "text/plain": [
       "45     0.00\n",
       "63    38.15\n",
       "81    59.25\n",
       "90    77.60\n",
       "57    98.50\n",
       "Name: 45, dtype: float64"
      ]
     },
     "execution_count": 28,
     "metadata": {},
     "output_type": "execute_result"
    }
   ],
   "source": [
    "Cluster77 = Cluster77.reset_index().drop('index', axis = 1)\n",
    "eu_dist_cluster77 = pd.DataFrame(euclidean_distances(pd.DataFrame(Cluster77[['TOT_SALES','Customers','TxnPerCust']].values.flatten())))\n",
    "eu_dist_cluster77.iloc[45].sort_values().head()"
   ]
  },
  {
   "cell_type": "code",
   "execution_count": 29,
   "metadata": {},
   "outputs": [
    {
     "data": {
      "text/html": [
       "<div>\n",
       "<style scoped>\n",
       "    .dataframe tbody tr th:only-of-type {\n",
       "        vertical-align: middle;\n",
       "    }\n",
       "\n",
       "    .dataframe tbody tr th {\n",
       "        vertical-align: top;\n",
       "    }\n",
       "\n",
       "    .dataframe thead th {\n",
       "        text-align: right;\n",
       "    }\n",
       "</style>\n",
       "<table border=\"1\" class=\"dataframe\">\n",
       "  <thead>\n",
       "    <tr style=\"text-align: right;\">\n",
       "      <th></th>\n",
       "      <th>STORE_NBR</th>\n",
       "      <th>TOT_SALES</th>\n",
       "      <th>Customers</th>\n",
       "      <th>TxnPerCust</th>\n",
       "      <th>Cluster</th>\n",
       "    </tr>\n",
       "  </thead>\n",
       "  <tbody>\n",
       "  </tbody>\n",
       "</table>\n",
       "</div>"
      ],
      "text/plain": [
       "Empty DataFrame\n",
       "Columns: [STORE_NBR, TOT_SALES, Customers, TxnPerCust, Cluster]\n",
       "Index: []"
      ]
     },
     "execution_count": 29,
     "metadata": {},
     "output_type": "execute_result"
    }
   ],
   "source": [
    "Cluster77[Cluster77['STORE_NBR']==77]"
   ]
  },
  {
   "cell_type": "code",
   "execution_count": 30,
   "metadata": {},
   "outputs": [
    {
     "data": {
      "text/html": [
       "<div>\n",
       "<style scoped>\n",
       "    .dataframe tbody tr th:only-of-type {\n",
       "        vertical-align: middle;\n",
       "    }\n",
       "\n",
       "    .dataframe tbody tr th {\n",
       "        vertical-align: top;\n",
       "    }\n",
       "\n",
       "    .dataframe thead th {\n",
       "        text-align: right;\n",
       "    }\n",
       "</style>\n",
       "<table border=\"1\" class=\"dataframe\">\n",
       "  <thead>\n",
       "    <tr style=\"text-align: right;\">\n",
       "      <th></th>\n",
       "      <th>STORE_NBR</th>\n",
       "      <th>TOT_SALES</th>\n",
       "      <th>Customers</th>\n",
       "      <th>TxnPerCust</th>\n",
       "      <th>Cluster</th>\n",
       "    </tr>\n",
       "  </thead>\n",
       "  <tbody>\n",
       "  </tbody>\n",
       "</table>\n",
       "</div>"
      ],
      "text/plain": [
       "Empty DataFrame\n",
       "Columns: [STORE_NBR, TOT_SALES, Customers, TxnPerCust, Cluster]\n",
       "Index: []"
      ]
     },
     "execution_count": 30,
     "metadata": {},
     "output_type": "execute_result"
    }
   ],
   "source": [
    "Cluster77[Cluster77['STORE_NBR']==233]"
   ]
  },
  {
   "cell_type": "markdown",
   "metadata": {},
   "source": [
    "**After comparison we have chose store 233 as the control store for 77**"
   ]
  },
  {
   "cell_type": "code",
   "execution_count": 31,
   "metadata": {},
   "outputs": [
    {
     "data": {
      "text/plain": [
       "78      0.00\n",
       "24      0.45\n",
       "183     1.25\n",
       "177    10.15\n",
       "87     12.90\n",
       "Name: 78, dtype: float64"
      ]
     },
     "execution_count": 31,
     "metadata": {},
     "output_type": "execute_result"
    }
   ],
   "source": [
    "Cluster86 = Cluster86.reset_index().drop('index', axis =1)\n",
    "eu_dist_cluster86 = pd.DataFrame(euclidean_distances(pd.DataFrame(Cluster86[['TOT_SALES','Customers','TxnPerCust']].values.flatten())))\n",
    "eu_dist_cluster86.loc[78].sort_values().head()"
   ]
  },
  {
   "cell_type": "code",
   "execution_count": 32,
   "metadata": {},
   "outputs": [
    {
     "data": {
      "text/html": [
       "<div>\n",
       "<style scoped>\n",
       "    .dataframe tbody tr th:only-of-type {\n",
       "        vertical-align: middle;\n",
       "    }\n",
       "\n",
       "    .dataframe tbody tr th {\n",
       "        vertical-align: top;\n",
       "    }\n",
       "\n",
       "    .dataframe thead th {\n",
       "        text-align: right;\n",
       "    }\n",
       "</style>\n",
       "<table border=\"1\" class=\"dataframe\">\n",
       "  <thead>\n",
       "    <tr style=\"text-align: right;\">\n",
       "      <th></th>\n",
       "      <th>STORE_NBR</th>\n",
       "      <th>TOT_SALES</th>\n",
       "      <th>Customers</th>\n",
       "      <th>TxnPerCust</th>\n",
       "      <th>Cluster</th>\n",
       "    </tr>\n",
       "  </thead>\n",
       "  <tbody>\n",
       "    <tr>\n",
       "      <th>26</th>\n",
       "      <td>86</td>\n",
       "      <td>7033.05</td>\n",
       "      <td>267</td>\n",
       "      <td>3.798</td>\n",
       "      <td>2</td>\n",
       "    </tr>\n",
       "  </tbody>\n",
       "</table>\n",
       "</div>"
      ],
      "text/plain": [
       "    STORE_NBR  TOT_SALES  Customers  TxnPerCust  Cluster\n",
       "26         86    7033.05        267       3.798        2"
      ]
     },
     "execution_count": 32,
     "metadata": {},
     "output_type": "execute_result"
    }
   ],
   "source": [
    "Cluster86[Cluster86['STORE_NBR']==86]"
   ]
  },
  {
   "cell_type": "code",
   "execution_count": 33,
   "metadata": {},
   "outputs": [
    {
     "data": {
      "text/html": [
       "<div>\n",
       "<style scoped>\n",
       "    .dataframe tbody tr th:only-of-type {\n",
       "        vertical-align: middle;\n",
       "    }\n",
       "\n",
       "    .dataframe tbody tr th {\n",
       "        vertical-align: top;\n",
       "    }\n",
       "\n",
       "    .dataframe thead th {\n",
       "        text-align: right;\n",
       "    }\n",
       "</style>\n",
       "<table border=\"1\" class=\"dataframe\">\n",
       "  <thead>\n",
       "    <tr style=\"text-align: right;\">\n",
       "      <th></th>\n",
       "      <th>STORE_NBR</th>\n",
       "      <th>TOT_SALES</th>\n",
       "      <th>Customers</th>\n",
       "      <th>TxnPerCust</th>\n",
       "      <th>Cluster</th>\n",
       "    </tr>\n",
       "  </thead>\n",
       "  <tbody>\n",
       "    <tr>\n",
       "      <th>55</th>\n",
       "      <td>155</td>\n",
       "      <td>7199.9</td>\n",
       "      <td>246</td>\n",
       "      <td>4.163</td>\n",
       "      <td>2</td>\n",
       "    </tr>\n",
       "  </tbody>\n",
       "</table>\n",
       "</div>"
      ],
      "text/plain": [
       "    STORE_NBR  TOT_SALES  Customers  TxnPerCust  Cluster\n",
       "55        155     7199.9        246       4.163        2"
      ]
     },
     "execution_count": 33,
     "metadata": {},
     "output_type": "execute_result"
    }
   ],
   "source": [
    "Cluster86[Cluster86['STORE_NBR']==155]"
   ]
  },
  {
   "cell_type": "markdown",
   "metadata": {},
   "source": [
    "**After comparison we have chose store 155 as the control store for 86**"
   ]
  },
  {
   "cell_type": "code",
   "execution_count": 34,
   "metadata": {},
   "outputs": [
    {
     "data": {
      "text/plain": [
       "48     0.0\n",
       "15     5.2\n",
       "90    52.2\n",
       "63    60.0\n",
       "0     74.9\n",
       "Name: 48, dtype: float64"
      ]
     },
     "execution_count": 34,
     "metadata": {},
     "output_type": "execute_result"
    }
   ],
   "source": [
    "Cluster88 = Cluster88.reset_index().drop('index', axis = 1)\n",
    "eu_dist_cluster88 = pd.DataFrame(euclidean_distances(pd.DataFrame(Cluster88[['TOT_SALES','Customers','TxnPerCust']].values.flatten())))\n",
    "eu_dist_cluster88.iloc[48].sort_values().head()"
   ]
  },
  {
   "cell_type": "code",
   "execution_count": 35,
   "metadata": {},
   "outputs": [
    {
     "data": {
      "text/html": [
       "<div>\n",
       "<style scoped>\n",
       "    .dataframe tbody tr th:only-of-type {\n",
       "        vertical-align: middle;\n",
       "    }\n",
       "\n",
       "    .dataframe tbody tr th {\n",
       "        vertical-align: top;\n",
       "    }\n",
       "\n",
       "    .dataframe thead th {\n",
       "        text-align: right;\n",
       "    }\n",
       "</style>\n",
       "<table border=\"1\" class=\"dataframe\">\n",
       "  <thead>\n",
       "    <tr style=\"text-align: right;\">\n",
       "      <th></th>\n",
       "      <th>STORE_NBR</th>\n",
       "      <th>TOT_SALES</th>\n",
       "      <th>Customers</th>\n",
       "      <th>TxnPerCust</th>\n",
       "      <th>Cluster</th>\n",
       "    </tr>\n",
       "  </thead>\n",
       "  <tbody>\n",
       "  </tbody>\n",
       "</table>\n",
       "</div>"
      ],
      "text/plain": [
       "Empty DataFrame\n",
       "Columns: [STORE_NBR, TOT_SALES, Customers, TxnPerCust, Cluster]\n",
       "Index: []"
      ]
     },
     "execution_count": 35,
     "metadata": {},
     "output_type": "execute_result"
    }
   ],
   "source": [
    "Cluster88[Cluster88['STORE_NBR']==88]"
   ]
  },
  {
   "cell_type": "code",
   "execution_count": 36,
   "metadata": {},
   "outputs": [
    {
     "data": {
      "text/html": [
       "<div>\n",
       "<style scoped>\n",
       "    .dataframe tbody tr th:only-of-type {\n",
       "        vertical-align: middle;\n",
       "    }\n",
       "\n",
       "    .dataframe tbody tr th {\n",
       "        vertical-align: top;\n",
       "    }\n",
       "\n",
       "    .dataframe thead th {\n",
       "        text-align: right;\n",
       "    }\n",
       "</style>\n",
       "<table border=\"1\" class=\"dataframe\">\n",
       "  <thead>\n",
       "    <tr style=\"text-align: right;\">\n",
       "      <th></th>\n",
       "      <th>STORE_NBR</th>\n",
       "      <th>TOT_SALES</th>\n",
       "      <th>Customers</th>\n",
       "      <th>TxnPerCust</th>\n",
       "      <th>Cluster</th>\n",
       "    </tr>\n",
       "  </thead>\n",
       "  <tbody>\n",
       "  </tbody>\n",
       "</table>\n",
       "</div>"
      ],
      "text/plain": [
       "Empty DataFrame\n",
       "Columns: [STORE_NBR, TOT_SALES, Customers, TxnPerCust, Cluster]\n",
       "Index: []"
      ]
     },
     "execution_count": 36,
     "metadata": {},
     "output_type": "execute_result"
    }
   ],
   "source": [
    "Cluster88[Cluster88['STORE_NBR']==237]"
   ]
  },
  {
   "cell_type": "markdown",
   "metadata": {},
   "source": [
    "**After comparison we have chose store 237 as the control store for 88**"
   ]
  },
  {
   "cell_type": "markdown",
   "metadata": {},
   "source": [
    "**-----------------------------------------------------------------------------------------------------------------------------------------------------------------------------------------------------------------**"
   ]
  },
  {
   "cell_type": "code",
   "execution_count": 37,
   "metadata": {},
   "outputs": [],
   "source": [
    "### Lets plot the trend of the sales of these stores to stores over the months:"
   ]
  },
  {
   "cell_type": "code",
   "execution_count": 38,
   "metadata": {},
   "outputs": [],
   "source": [
    "df0 = QVI[(QVI['Month_Date'] >'2018-06') & (QVI['Month_Date'] <'2019-03') & (~QVI['STORE_NBR'].isin([77, 233, 86, 155, 88, 237]))]\n",
    "df0_monthly = pd.merge(df0.groupby(['Month_Date'])['PROD_QTY', 'TOT_SALES'].sum().reset_index(), df0.groupby(['Month_Date'])['TXN_ID', 'LYLTY_CARD_NBR'].nunique().reset_index(), on=['Month_Date'])\n",
    "df0_monthly['STORE_NBR'] = 'Others'\n",
    "df0_monthly['TOT_SALES'] = round(df0_monthly['TOT_SALES']/df0['STORE_NBR'].nunique(),2)\n",
    "df0_monthly['LYLTY_CARD_NBR'] = round(df0_monthly['LYLTY_CARD_NBR']/df0['STORE_NBR'].nunique(),2)"
   ]
  },
  {
   "cell_type": "code",
   "execution_count": 39,
   "metadata": {},
   "outputs": [
    {
     "data": {
      "text/plain": [
       "265"
      ]
     },
     "execution_count": 39,
     "metadata": {},
     "output_type": "execute_result"
    }
   ],
   "source": [
    "df0['STORE_NBR'].nunique()"
   ]
  },
  {
   "cell_type": "code",
   "execution_count": 40,
   "metadata": {},
   "outputs": [],
   "source": [
    "# df0_monthly"
   ]
  },
  {
   "cell_type": "code",
   "execution_count": 41,
   "metadata": {},
   "outputs": [],
   "source": [
    "df1 = QVI[(QVI['Month_Date'] >'2018-06') & (QVI['Month_Date'] <'2019-03') & (QVI['STORE_NBR'].isin([77, 233, 86, 155, 88, 237]))]\n",
    "df1_monthly = pd.merge(df1.groupby(['STORE_NBR','Month_Date'])['PROD_QTY', 'TOT_SALES'].sum().reset_index(), df1.groupby(['STORE_NBR','Month_Date'])['TXN_ID', 'LYLTY_CARD_NBR'].nunique().reset_index(), on=['STORE_NBR', 'Month_Date'])"
   ]
  },
  {
   "cell_type": "code",
   "execution_count": 42,
   "metadata": {},
   "outputs": [],
   "source": [
    "frames = [df0_monthly, df1_monthly]\n",
    "df_monthly = pd.concat(frames, sort=True).reset_index()\n",
    "df_monthly = df_monthly.drop('index', axis = 1)\n",
    "df_monthly['Month_Date'] = df_monthly.Month_Date.astype(str)"
   ]
  },
  {
   "cell_type": "code",
   "execution_count": 43,
   "metadata": {},
   "outputs": [
    {
     "data": {
      "text/html": [
       "<div>\n",
       "<style scoped>\n",
       "    .dataframe tbody tr th:only-of-type {\n",
       "        vertical-align: middle;\n",
       "    }\n",
       "\n",
       "    .dataframe tbody tr th {\n",
       "        vertical-align: top;\n",
       "    }\n",
       "\n",
       "    .dataframe thead th {\n",
       "        text-align: right;\n",
       "    }\n",
       "</style>\n",
       "<table border=\"1\" class=\"dataframe\">\n",
       "  <thead>\n",
       "    <tr style=\"text-align: right;\">\n",
       "      <th></th>\n",
       "      <th>LYLTY_CARD_NBR</th>\n",
       "      <th>Month_Date</th>\n",
       "      <th>PROD_QTY</th>\n",
       "      <th>STORE_NBR</th>\n",
       "      <th>TOT_SALES</th>\n",
       "      <th>TXN_ID</th>\n",
       "    </tr>\n",
       "  </thead>\n",
       "  <tbody>\n",
       "    <tr>\n",
       "      <th>0</th>\n",
       "      <td>68.76</td>\n",
       "      <td>2018-07</td>\n",
       "      <td>41939</td>\n",
       "      <td>Others</td>\n",
       "      <td>604.20</td>\n",
       "      <td>21762</td>\n",
       "    </tr>\n",
       "    <tr>\n",
       "      <th>1</th>\n",
       "      <td>68.57</td>\n",
       "      <td>2018-08</td>\n",
       "      <td>40070</td>\n",
       "      <td>Others</td>\n",
       "      <td>578.50</td>\n",
       "      <td>21614</td>\n",
       "    </tr>\n",
       "    <tr>\n",
       "      <th>2</th>\n",
       "      <td>66.61</td>\n",
       "      <td>2018-09</td>\n",
       "      <td>40487</td>\n",
       "      <td>Others</td>\n",
       "      <td>586.39</td>\n",
       "      <td>20926</td>\n",
       "    </tr>\n",
       "    <tr>\n",
       "      <th>3</th>\n",
       "      <td>68.06</td>\n",
       "      <td>2018-10</td>\n",
       "      <td>41550</td>\n",
       "      <td>Others</td>\n",
       "      <td>601.56</td>\n",
       "      <td>21507</td>\n",
       "    </tr>\n",
       "    <tr>\n",
       "      <th>4</th>\n",
       "      <td>67.00</td>\n",
       "      <td>2018-11</td>\n",
       "      <td>40608</td>\n",
       "      <td>Others</td>\n",
       "      <td>585.58</td>\n",
       "      <td>21050</td>\n",
       "    </tr>\n",
       "  </tbody>\n",
       "</table>\n",
       "</div>"
      ],
      "text/plain": [
       "   LYLTY_CARD_NBR Month_Date  PROD_QTY STORE_NBR  TOT_SALES  TXN_ID\n",
       "0           68.76    2018-07     41939    Others     604.20   21762\n",
       "1           68.57    2018-08     40070    Others     578.50   21614\n",
       "2           66.61    2018-09     40487    Others     586.39   20926\n",
       "3           68.06    2018-10     41550    Others     601.56   21507\n",
       "4           67.00    2018-11     40608    Others     585.58   21050"
      ]
     },
     "execution_count": 43,
     "metadata": {},
     "output_type": "execute_result"
    }
   ],
   "source": [
    "df_monthly.head()"
   ]
  },
  {
   "cell_type": "markdown",
   "metadata": {},
   "source": [
    "### Plotting total sales for pairs of control and trial (77, 233), (86, 155), (88, 237)"
   ]
  },
  {
   "cell_type": "code",
   "execution_count": 44,
   "metadata": {},
   "outputs": [
    {
     "data": {
      "image/png": "[encoded data removed]",
      "text/plain": [
       "<Figure size 432x288 with 1 Axes>"
      ]
     },
     "metadata": {
      "needs_background": "light"
     },
     "output_type": "display_data"
    }
   ],
   "source": [
    "ax = sns.lineplot(x='Month_Date', y='TOT_SALES', hue=\"STORE_NBR\", data = df_monthly.query(\"STORE_NBR == 77 | STORE_NBR == 233 | STORE_NBR == 'Others'\"))\n",
    "# ax.set_xticklabels(df['Month_Date'])"
   ]
  },
  {
   "cell_type": "code",
   "execution_count": 45,
   "metadata": {},
   "outputs": [
    {
     "data": {
      "image/png": "[encoded data removed]",
      "text/plain": [
       "<Figure size 432x288 with 1 Axes>"
      ]
     },
     "metadata": {
      "needs_background": "light"
     },
     "output_type": "display_data"
    }
   ],
   "source": [
    "ax = sns.lineplot(x='Month_Date', y='TOT_SALES', hue=\"STORE_NBR\", data = df_monthly.query(\"STORE_NBR == 86 | STORE_NBR == 155 | STORE_NBR == 'Others'\"))"
   ]
  },
  {
   "cell_type": "code",
   "execution_count": 46,
   "metadata": {},
   "outputs": [
    {
     "data": {
      "image/png": "[encoded data removed]",
      "text/plain": [
       "<Figure size 432x288 with 1 Axes>"
      ]
     },
     "metadata": {
      "needs_background": "light"
     },
     "output_type": "display_data"
    }
   ],
   "source": [
    "ax = sns.lineplot(x='Month_Date', y='TOT_SALES', hue=\"STORE_NBR\", data = df_monthly.query(\"STORE_NBR == 88 | STORE_NBR == 237 | STORE_NBR == 'Others'\"))"
   ]
  },
  {
   "cell_type": "markdown",
   "metadata": {},
   "source": [
    "### Plotting total Cutomers for pairs of control and trial (77, 233), (86, 155), (88, 237)"
   ]
  },
  {
   "cell_type": "code",
   "execution_count": 47,
   "metadata": {},
   "outputs": [
    {
     "data": {
      "image/png": "[encoded data removed]",
      "text/plain": [
       "<Figure size 432x288 with 1 Axes>"
      ]
     },
     "metadata": {
      "needs_background": "light"
     },
     "output_type": "display_data"
    }
   ],
   "source": [
    "ax = sns.lineplot(x='Month_Date', y='LYLTY_CARD_NBR', hue=\"STORE_NBR\", data = df_monthly.query(\"STORE_NBR == 77 | STORE_NBR == 233 | STORE_NBR == 'Others'\"))"
   ]
  },
  {
   "cell_type": "code",
   "execution_count": 48,
   "metadata": {},
   "outputs": [
    {
     "data": {
      "image/png": "[encoded data removed]",
      "text/plain": [
       "<Figure size 432x288 with 1 Axes>"
      ]
     },
     "metadata": {
      "needs_background": "light"
     },
     "output_type": "display_data"
    }
   ],
   "source": [
    "ax = sns.lineplot(x='Month_Date', y='LYLTY_CARD_NBR', hue=\"STORE_NBR\", data = df_monthly.query(\"STORE_NBR == 86 | STORE_NBR == 155 | STORE_NBR == 'Others'\"))"
   ]
  },
  {
   "cell_type": "code",
   "execution_count": 49,
   "metadata": {},
   "outputs": [
    {
     "data": {
      "image/png": "[encoded data removed]",
      "text/plain": [
       "<Figure size 432x288 with 1 Axes>"
      ]
     },
     "metadata": {
      "needs_background": "light"
     },
     "output_type": "display_data"
    }
   ],
   "source": [
    "ax = sns.lineplot(x='Month_Date', y='LYLTY_CARD_NBR', hue=\"STORE_NBR\", data = df_monthly.query(\"STORE_NBR == 88 | STORE_NBR == 237 | STORE_NBR == 'Others'\"))"
   ]
  },
  {
   "cell_type": "markdown",
   "metadata": {},
   "source": [
    "#### From the above trends between each control- Trial store pair in Total Sales and Customers, we can conclude that they are indeed very similar."
   ]
  },
  {
   "cell_type": "markdown",
   "metadata": {},
   "source": [
    "### Now let's compare the Sales of the control stores to the test stores during the trial period: Mar 2019 to June 2019"
   ]
  },
  {
   "cell_type": "code",
   "execution_count": 50,
   "metadata": {},
   "outputs": [],
   "source": [
    "df = pd.merge(QVI.groupby(['STORE_NBR','Month_Date'])['PROD_QTY', 'TOT_SALES'].sum().reset_index(), QVI.groupby(['STORE_NBR','Month_Date'])['TXN_ID', 'LYLTY_CARD_NBR'].nunique().reset_index(), on=['STORE_NBR', 'Month_Date'])\n",
    "df['TXN/CUSTOMER'] = round(df['TXN_ID']/ df['LYLTY_CARD_NBR'], 3)\n",
    "df['CHIPS/TXN'] = round(df['PROD_QTY']/ df['TXN_ID'], 3)\n",
    "### Trial period: March 2019, April 2019, May 2019 and June 2019\n",
    "df = df[(df['Month_Date'] >'2019-02') & (df['Month_Date'] <'2019-07') & (df['STORE_NBR'].isin([77, 233, 155, 86, 88, 237]))]\n",
    "df  = df.reset_index().drop('index', axis = 1)\n",
    "df['Month_Date'] = df.Month_Date.astype(str)\n",
    "# df['STORE_NBR'] = df.STORE_NBR.astype(str)"
   ]
  },
  {
   "cell_type": "code",
   "execution_count": 51,
   "metadata": {},
   "outputs": [],
   "source": [
    "df77_trial = df[df['STORE_NBR'].isin(['77','233'])]\n",
    "df77_trial = df77_trial.reset_index().drop('index', axis = 1)"
   ]
  },
  {
   "cell_type": "code",
   "execution_count": 52,
   "metadata": {},
   "outputs": [],
   "source": [
    "df86_trial = df[df['STORE_NBR'].isin(['86','155'])]\n",
    "df86_trial = df86_trial.reset_index().drop('index', axis = 1)"
   ]
  },
  {
   "cell_type": "code",
   "execution_count": 53,
   "metadata": {},
   "outputs": [],
   "source": [
    "df88_trial = df[df['STORE_NBR'].isin(['88','237'])]\n",
    "df88_trial = df88_trial.reset_index().drop('index', axis = 1)"
   ]
  },
  {
   "cell_type": "code",
   "execution_count": 54,
   "metadata": {},
   "outputs": [
    {
     "data": {
      "text/html": [
       "<div>\n",
       "<style scoped>\n",
       "    .dataframe tbody tr th:only-of-type {\n",
       "        vertical-align: middle;\n",
       "    }\n",
       "\n",
       "    .dataframe tbody tr th {\n",
       "        vertical-align: top;\n",
       "    }\n",
       "\n",
       "    .dataframe thead th {\n",
       "        text-align: right;\n",
       "    }\n",
       "</style>\n",
       "<table border=\"1\" class=\"dataframe\">\n",
       "  <thead>\n",
       "    <tr style=\"text-align: right;\">\n",
       "      <th></th>\n",
       "      <th>STORE_NBR</th>\n",
       "      <th>Month_Date</th>\n",
       "      <th>PROD_QTY</th>\n",
       "      <th>TOT_SALES</th>\n",
       "      <th>TXN_ID</th>\n",
       "      <th>LYLTY_CARD_NBR</th>\n",
       "      <th>TXN/CUSTOMER</th>\n",
       "      <th>CHIPS/TXN</th>\n",
       "    </tr>\n",
       "  </thead>\n",
       "  <tbody>\n",
       "    <tr>\n",
       "      <th>0</th>\n",
       "      <td>77</td>\n",
       "      <td>2019-03</td>\n",
       "      <td>82</td>\n",
       "      <td>278.5</td>\n",
       "      <td>55</td>\n",
       "      <td>50</td>\n",
       "      <td>1.100</td>\n",
       "      <td>1.491</td>\n",
       "    </tr>\n",
       "    <tr>\n",
       "      <th>1</th>\n",
       "      <td>77</td>\n",
       "      <td>2019-04</td>\n",
       "      <td>78</td>\n",
       "      <td>263.5</td>\n",
       "      <td>48</td>\n",
       "      <td>47</td>\n",
       "      <td>1.021</td>\n",
       "      <td>1.625</td>\n",
       "    </tr>\n",
       "    <tr>\n",
       "      <th>2</th>\n",
       "      <td>77</td>\n",
       "      <td>2019-05</td>\n",
       "      <td>84</td>\n",
       "      <td>299.3</td>\n",
       "      <td>56</td>\n",
       "      <td>55</td>\n",
       "      <td>1.018</td>\n",
       "      <td>1.500</td>\n",
       "    </tr>\n",
       "    <tr>\n",
       "      <th>3</th>\n",
       "      <td>77</td>\n",
       "      <td>2019-06</td>\n",
       "      <td>70</td>\n",
       "      <td>264.7</td>\n",
       "      <td>42</td>\n",
       "      <td>41</td>\n",
       "      <td>1.024</td>\n",
       "      <td>1.667</td>\n",
       "    </tr>\n",
       "    <tr>\n",
       "      <th>4</th>\n",
       "      <td>233</td>\n",
       "      <td>2019-03</td>\n",
       "      <td>59</td>\n",
       "      <td>199.1</td>\n",
       "      <td>41</td>\n",
       "      <td>40</td>\n",
       "      <td>1.025</td>\n",
       "      <td>1.439</td>\n",
       "    </tr>\n",
       "    <tr>\n",
       "      <th>5</th>\n",
       "      <td>233</td>\n",
       "      <td>2019-04</td>\n",
       "      <td>46</td>\n",
       "      <td>158.6</td>\n",
       "      <td>32</td>\n",
       "      <td>30</td>\n",
       "      <td>1.067</td>\n",
       "      <td>1.438</td>\n",
       "    </tr>\n",
       "    <tr>\n",
       "      <th>6</th>\n",
       "      <td>233</td>\n",
       "      <td>2019-05</td>\n",
       "      <td>92</td>\n",
       "      <td>344.4</td>\n",
       "      <td>62</td>\n",
       "      <td>57</td>\n",
       "      <td>1.088</td>\n",
       "      <td>1.484</td>\n",
       "    </tr>\n",
       "    <tr>\n",
       "      <th>7</th>\n",
       "      <td>233</td>\n",
       "      <td>2019-06</td>\n",
       "      <td>61</td>\n",
       "      <td>221.0</td>\n",
       "      <td>41</td>\n",
       "      <td>41</td>\n",
       "      <td>1.000</td>\n",
       "      <td>1.488</td>\n",
       "    </tr>\n",
       "  </tbody>\n",
       "</table>\n",
       "</div>"
      ],
      "text/plain": [
       "   STORE_NBR Month_Date  PROD_QTY  TOT_SALES  TXN_ID  LYLTY_CARD_NBR  \\\n",
       "0         77    2019-03        82      278.5      55              50   \n",
       "1         77    2019-04        78      263.5      48              47   \n",
       "2         77    2019-05        84      299.3      56              55   \n",
       "3         77    2019-06        70      264.7      42              41   \n",
       "4        233    2019-03        59      199.1      41              40   \n",
       "5        233    2019-04        46      158.6      32              30   \n",
       "6        233    2019-05        92      344.4      62              57   \n",
       "7        233    2019-06        61      221.0      41              41   \n",
       "\n",
       "   TXN/CUSTOMER  CHIPS/TXN  \n",
       "0         1.100      1.491  \n",
       "1         1.021      1.625  \n",
       "2         1.018      1.500  \n",
       "3         1.024      1.667  \n",
       "4         1.025      1.439  \n",
       "5         1.067      1.438  \n",
       "6         1.088      1.484  \n",
       "7         1.000      1.488  "
      ]
     },
     "execution_count": 54,
     "metadata": {},
     "output_type": "execute_result"
    }
   ],
   "source": [
    "df77_trial"
   ]
  },
  {
   "cell_type": "markdown",
   "metadata": {},
   "source": [
    "#### Now we need to compare the trial store to the control store to see there is any change in sales or customers and confirm our hypothesis."
   ]
  },
  {
   "cell_type": "code",
   "execution_count": 55,
   "metadata": {},
   "outputs": [
    {
     "data": {
      "image/png": "[encoded data removed]",
      "text/plain": [
       "<Figure size 432x288 with 1 Axes>"
      ]
     },
     "metadata": {
      "needs_background": "light"
     },
     "output_type": "display_data"
    }
   ],
   "source": [
    "plt.plot(df77_trial['Month_Date'].loc[0:3], df77_trial['TOT_SALES'].loc[0:3], 'r-', label='Store 77')\n",
    "plt.plot(df77_trial['Month_Date'].loc[4:], df77_trial['TOT_SALES'].loc[4:], 'b-', label='Store 233')\n",
    "plt.ylabel('Total_Sales')\n",
    "plt.xlabel('Month Date')\n",
    "plt.legend();"
   ]
  },
  {
   "cell_type": "code",
   "execution_count": 56,
   "metadata": {},
   "outputs": [
    {
     "data": {
      "image/png": "[encoded data removed]",
      "text/plain": [
       "<Figure size 432x288 with 1 Axes>"
      ]
     },
     "metadata": {
      "needs_background": "light"
     },
     "output_type": "display_data"
    }
   ],
   "source": [
    "# ax = sns.lineplot(x='Month_Date', y='TOT_SALES', data = df86_trial, hue = 'STORE_NBR')\n",
    "plt.plot(df86_trial['Month_Date'].loc[0:3], df86_trial['TOT_SALES'].loc[0:3], 'r-', label='Store 86')\n",
    "plt.plot(df86_trial['Month_Date'].loc[4:], df86_trial['TOT_SALES'].loc[4:], 'b-', label='Store 155')\n",
    "plt.ylabel('Total_Sales')\n",
    "plt.xlabel('Month Date')\n",
    "plt.legend();"
   ]
  },
  {
   "cell_type": "code",
   "execution_count": 57,
   "metadata": {},
   "outputs": [
    {
     "data": {
      "image/png": "[encoded data removed]",
      "text/plain": [
       "<Figure size 432x288 with 1 Axes>"
      ]
     },
     "metadata": {
      "needs_background": "light"
     },
     "output_type": "display_data"
    }
   ],
   "source": [
    "plt.plot(df88_trial['Month_Date'].loc[0:3], df88_trial['TOT_SALES'].loc[0:3], 'r-', label='Store 88')\n",
    "plt.plot(df88_trial['Month_Date'].loc[4:], df88_trial['TOT_SALES'].loc[4:], 'b-', label='Store 237')\n",
    "plt.ylabel('Total_Sales')\n",
    "plt.xlabel('Month Date')\n",
    "plt.legend();"
   ]
  },
  {
   "cell_type": "code",
   "execution_count": 58,
   "metadata": {},
   "outputs": [],
   "source": [
    "# Stores_Monthly_Sales = pd.DataFrame(QVI_pre_Trial[QVI_pre_Trial['STORE_NBR'].isin([77, 233, 155, 86, 88, 237])].groupby(['STORE_NBR', 'Month_Date'])['TOT_SALES'].sum()).reset_index()\n",
    "# scale = round(pd.DataFrame(Stores_Monthly_Sales.groupby('STORE_NBR')['TOT_SALES'].sum().loc[[77, 86, 88]]).reset_index()['TOT_SALES']/pd.DataFrame(Stores_Monthly_Sales.groupby('STORE_NBR')['TOT_SALES'].sum().loc[[233, 155, 237]]).reset_index()['TOT_SALES'], 3)"
   ]
  },
  {
   "cell_type": "code",
   "execution_count": 59,
   "metadata": {},
   "outputs": [
    {
     "data": {
      "text/plain": [
       "STORE_NBR\n",
       "77     1106.0\n",
       "233     923.1\n",
       "Name: TOT_SALES, dtype: float64"
      ]
     },
     "execution_count": 59,
     "metadata": {},
     "output_type": "execute_result"
    }
   ],
   "source": [
    "df77_trial.groupby('STORE_NBR')['TOT_SALES'].sum()"
   ]
  },
  {
   "cell_type": "code",
   "execution_count": 60,
   "metadata": {},
   "outputs": [
    {
     "data": {
      "text/plain": [
       "STORE_NBR\n",
       "86     3602.30\n",
       "155    3429.05\n",
       "Name: TOT_SALES, dtype: float64"
      ]
     },
     "execution_count": 60,
     "metadata": {},
     "output_type": "execute_result"
    }
   ],
   "source": [
    "df86_trial.groupby('STORE_NBR')['TOT_SALES'].sum()"
   ]
  },
  {
   "cell_type": "code",
   "execution_count": 61,
   "metadata": {},
   "outputs": [
    {
     "data": {
      "text/plain": [
       "STORE_NBR\n",
       "88     5579.45\n",
       "237    4765.70\n",
       "Name: TOT_SALES, dtype: float64"
      ]
     },
     "execution_count": 61,
     "metadata": {},
     "output_type": "execute_result"
    }
   ],
   "source": [
    "df88_trial.groupby('STORE_NBR')['TOT_SALES'].sum()"
   ]
  },
  {
   "cell_type": "markdown",
   "metadata": {},
   "source": [
    "<ol>difference in sales of trial stores in trial period and pre-trial period</ol>\n",
    "<ol>difference in sales of control stores in trial period and pre-trial period.</ol>"
   ]
  },
  {
   "cell_type": "code",
   "execution_count": 62,
   "metadata": {},
   "outputs": [],
   "source": [
    "# df77_trial"
   ]
  },
  {
   "cell_type": "code",
   "execution_count": 63,
   "metadata": {},
   "outputs": [],
   "source": [
    "pretrial = df1[(df1['STORE_NBR'].isin([77, 233, 155, 86, 88, 237]))].groupby(['STORE_NBR','Month_Date'])['PROD_QTY','TOT_SALES'].sum().reset_index()"
   ]
  },
  {
   "cell_type": "code",
   "execution_count": 64,
   "metadata": {},
   "outputs": [],
   "source": [
    "pretrial['sales_diff'] = pretrial.groupby('STORE_NBR')['TOT_SALES'].diff()"
   ]
  },
  {
   "cell_type": "code",
   "execution_count": 65,
   "metadata": {},
   "outputs": [],
   "source": [
    "# pretrial"
   ]
  },
  {
   "cell_type": "code",
   "execution_count": 66,
   "metadata": {},
   "outputs": [],
   "source": [
    "def average_diff(s1, s2):\n",
    "       growth = round(s1.mean() - s2.mean(), 3)\n",
    "       return growth"
   ]
  },
  {
   "cell_type": "code",
   "execution_count": 67,
   "metadata": {},
   "outputs": [],
   "source": [
    "#77 - # 233"
   ]
  },
  {
   "cell_type": "code",
   "execution_count": 68,
   "metadata": {},
   "outputs": [
    {
     "data": {
      "text/plain": [
       "3.775"
      ]
     },
     "execution_count": 68,
     "metadata": {},
     "output_type": "execute_result"
    }
   ],
   "source": [
    "average_diff(pretrial.loc[0:7]['TOT_SALES'], pretrial.loc[32:39]['TOT_SALES'])"
   ]
  },
  {
   "cell_type": "code",
   "execution_count": 69,
   "metadata": {},
   "outputs": [],
   "source": [
    "meandiff_1 = average_diff(df['TOT_SALES'].loc[0:3], df.loc[16:19]['TOT_SALES'])"
   ]
  },
  {
   "cell_type": "markdown",
   "metadata": {},
   "source": [
    "Here we can see that during the trial period, sales of our trial store 77 is more than control store 233. But is this result significant enough to say that the experiment is successful?\n",
    "Lets test this hyposthesis."
   ]
  },
  {
   "cell_type": "markdown",
   "metadata": {},
   "source": [
    "**Null Hypothesis: $ H_{0} : μ_{77} - μ_{233} = 0 $** <br>\n",
    "**Alternate Hypothesis: $ H_{1} :  μ_{77} - μ_{233} = 45.73 $**"
   ]
  },
  {
   "cell_type": "markdown",
   "metadata": {},
   "source": [
    "**CONDITIONS:**\n",
    "    <ol>Indepedent Observations:</ol>\n",
    "    1. Random Assignment\n",
    "    2. n < 10% of population        \n",
    "    Sample size/ Skew: Sample size is n >=30 or distribution is normal."
   ]
  },
  {
   "cell_type": "code",
   "execution_count": 70,
   "metadata": {},
   "outputs": [
    {
     "data": {
      "text/plain": [
       "(3.472664150029071, 0.001692489013806267)"
      ]
     },
     "execution_count": 70,
     "metadata": {},
     "output_type": "execute_result"
    }
   ],
   "source": [
    "sampled_77 = np.random.choice(df.loc[0:3]['TOT_SALES'], 15)\n",
    "sampled_77_pre = np.random.choice(pretrial.loc[0:7]['TOT_SALES'], 15)\n",
    "stat, p = ttest_ind(sampled_77, sampled_77_pre)\n",
    "stat, p"
   ]
  },
  {
   "cell_type": "markdown",
   "metadata": {},
   "source": [
    "Since p value is less than 5% signifance level, we can reject the null hypothesis that there is no difference between the pre-trial and trial period sales."
   ]
  },
  {
   "cell_type": "code",
   "execution_count": 74,
   "metadata": {},
   "outputs": [
    {
     "data": {
      "text/plain": [
       "(0.12546120380292838, 0.9010549303016235)"
      ]
     },
     "execution_count": 74,
     "metadata": {},
     "output_type": "execute_result"
    }
   ],
   "source": [
    "sampled_86 = np.random.choice(df.loc[4:7]['TOT_SALES'], 15)\n",
    "sampled_86_pre = np.random.choice(pretrial.loc[8:15]['TOT_SALES'], 15)\n",
    "stat, p = ttest_ind(sampled_86, sampled_86_pre)\n",
    "stat, p"
   ]
  },
  {
   "cell_type": "markdown",
   "metadata": {},
   "source": [
    "Since P-value is 0.9 > 0.05 , we fail to reject the null."
   ]
  },
  {
   "cell_type": "code",
   "execution_count": 72,
   "metadata": {},
   "outputs": [
    {
     "data": {
      "text/plain": [
       "(2.7925487414533188, 0.00932088068080456)"
      ]
     },
     "execution_count": 72,
     "metadata": {},
     "output_type": "execute_result"
    }
   ],
   "source": [
    "sampled_88 = np.random.choice(df.loc[8:11]['TOT_SALES'], 15)\n",
    "sampled_88_pre = np.random.choice(pretrial.loc[16:23]['TOT_SALES'], 15)\n",
    "stat, p = ttest_ind(sampled_88, sampled_88_pre)\n",
    "stat, p"
   ]
  },
  {
   "cell_type": "markdown",
   "metadata": {},
   "source": [
    "For store 88, we see p-value is lesser than 5% so we can reject the null for this."
   ]
  },
  {
   "cell_type": "code",
   "execution_count": null,
   "metadata": {},
   "outputs": [],
   "source": [
    "# # From the above we can write standard deviations as that :\n",
    "# size = len(df['TOT_SALES'].loc[0:3])\n",
    "# degree_of_freedom = size - 1\n",
    "# s1 = 16.65\n",
    "# s2 = 80.04\n",
    "# std_error = math.sqrt(((s1**2)/size) + ((s2**2)/size))\n",
    "# T = (meandiff_1-0)/std_error"
   ]
  },
  {
   "cell_type": "code",
   "execution_count": null,
   "metadata": {},
   "outputs": [],
   "source": [
    "# sampled_77 = np.random.choice(df['TOT_SALES'].loc[0:3], 15)\n",
    "# sampled_233 = np.random.choice(df.loc[16:19]['TOT_SALES'], 15)\n",
    "# stat, p = ttest_ind(sampled_77, sampled_233)\n",
    "# stat, p\n",
    "# sampled_86 = np.random.choice(df.loc[4:7]['TOT_SALES'], 15)\n",
    "# sampled_155 = np.random.choice(df.loc[12:15]['TOT_SALES'], 15)\n",
    "# stat, p = ttest_ind(sampled_86, sampled_155)\n",
    "# stat, p\n",
    "# sampled_88 = np.random.choice(df.loc[8:11]['TOT_SALES'], 15)\n",
    "# sampled_237 = np.random.choice(df.loc[20:]['TOT_SALES'], 15)\n",
    "# stat, p = ttest_ind(sampled_86, sampled_155)\n",
    "# stat, p"
   ]
  },
  {
   "cell_type": "code",
   "execution_count": null,
   "metadata": {},
   "outputs": [],
   "source": []
  }
 ],
 "metadata": {
  "kernelspec": {
   "display_name": "Python 3",
   "language": "python",
   "name": "python3"
  },
  "language_info": {
   "codemirror_mode": {
    "name": "ipython",
    "version": 3
   },
   "file_extension": ".py",
   "mimetype": "text/x-python",
   "name": "python",
   "nbconvert_exporter": "python",
   "pygments_lexer": "ipython3",
   "version": "3.7.3"
  }
 },
 "nbformat": 4,
 "nbformat_minor": 2
}
